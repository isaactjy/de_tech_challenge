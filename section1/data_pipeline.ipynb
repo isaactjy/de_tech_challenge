{
 "cells": [
  {
   "cell_type": "code",
   "execution_count": 1,
   "metadata": {},
   "outputs": [],
   "source": [
    "import pandas as pd"
   ]
  },
  {
   "cell_type": "code",
   "execution_count": 2,
   "metadata": {},
   "outputs": [],
   "source": [
    "df = pd.concat([pd.read_csv('dataset1.csv', dtype=str),pd.read_csv('dataset2.csv', dtype=str)])"
   ]
  },
  {
   "cell_type": "code",
   "execution_count": 3,
   "metadata": {},
   "outputs": [],
   "source": [
    "# Split the name field into first_name, and last_name\n",
    "df['first_name'] = df['name'].str.split(' ').str[-2]\n",
    "df['last_name'] = df['name'].str.split(' ').str[-1]"
   ]
  },
  {
   "cell_type": "code",
   "execution_count": 4,
   "metadata": {},
   "outputs": [],
   "source": [
    "# Remove any zeros prepended to the price field\n",
    "df.loc[df['price'].str.contains(r'^0'),'price'] = df[df['price'].str.contains(r'^0')]['price'].str[1:]"
   ]
  },
  {
   "cell_type": "code",
   "execution_count": 5,
   "metadata": {},
   "outputs": [],
   "source": [
    "# Delete any rows which do not have a name\n",
    "df = df[~df['name'].isna()]"
   ]
  },
  {
   "cell_type": "code",
   "execution_count": 6,
   "metadata": {},
   "outputs": [],
   "source": [
    "# Create a new field named above_100, which is true if the price is strictly greater than 100\n",
    "df['above_100'] = df['price'].astype(float)\n",
    "df.loc[df['above_100'] > 100, 'above_100'] = True\n",
    "df.loc[df['above_100'] != True, 'above_100'] = False"
   ]
  },
  {
   "cell_type": "code",
   "execution_count": 7,
   "metadata": {},
   "outputs": [
    {
     "data": {
      "text/html": [
       "<div>\n",
       "<style scoped>\n",
       "    .dataframe tbody tr th:only-of-type {\n",
       "        vertical-align: middle;\n",
       "    }\n",
       "\n",
       "    .dataframe tbody tr th {\n",
       "        vertical-align: top;\n",
       "    }\n",
       "\n",
       "    .dataframe thead th {\n",
       "        text-align: right;\n",
       "    }\n",
       "</style>\n",
       "<table border=\"1\" class=\"dataframe\">\n",
       "  <thead>\n",
       "    <tr style=\"text-align: right;\">\n",
       "      <th></th>\n",
       "      <th>name</th>\n",
       "      <th>price</th>\n",
       "      <th>first_name</th>\n",
       "      <th>last_name</th>\n",
       "      <th>above_100</th>\n",
       "    </tr>\n",
       "  </thead>\n",
       "  <tbody>\n",
       "    <tr>\n",
       "      <th>0</th>\n",
       "      <td>William Dixon</td>\n",
       "      <td>109.0372796</td>\n",
       "      <td>William</td>\n",
       "      <td>Dixon</td>\n",
       "      <td>True</td>\n",
       "    </tr>\n",
       "    <tr>\n",
       "      <th>1</th>\n",
       "      <td>Kristen Horn</td>\n",
       "      <td>262.5246522</td>\n",
       "      <td>Kristen</td>\n",
       "      <td>Horn</td>\n",
       "      <td>True</td>\n",
       "    </tr>\n",
       "    <tr>\n",
       "      <th>2</th>\n",
       "      <td>Kimberly Chang</td>\n",
       "      <td>187.0072583</td>\n",
       "      <td>Kimberly</td>\n",
       "      <td>Chang</td>\n",
       "      <td>True</td>\n",
       "    </tr>\n",
       "    <tr>\n",
       "      <th>3</th>\n",
       "      <td>Mary Ball</td>\n",
       "      <td>283.1746476</td>\n",
       "      <td>Mary</td>\n",
       "      <td>Ball</td>\n",
       "      <td>True</td>\n",
       "    </tr>\n",
       "    <tr>\n",
       "      <th>4</th>\n",
       "      <td>Benjamin Craig</td>\n",
       "      <td>143.8715817</td>\n",
       "      <td>Benjamin</td>\n",
       "      <td>Craig</td>\n",
       "      <td>True</td>\n",
       "    </tr>\n",
       "    <tr>\n",
       "      <th>...</th>\n",
       "      <td>...</td>\n",
       "      <td>...</td>\n",
       "      <td>...</td>\n",
       "      <td>...</td>\n",
       "      <td>...</td>\n",
       "    </tr>\n",
       "    <tr>\n",
       "      <th>4995</th>\n",
       "      <td>Rachel Davis</td>\n",
       "      <td>95.25395533</td>\n",
       "      <td>Rachel</td>\n",
       "      <td>Davis</td>\n",
       "      <td>False</td>\n",
       "    </tr>\n",
       "    <tr>\n",
       "      <th>4996</th>\n",
       "      <td>Connie Hamilton</td>\n",
       "      <td>205.3966853</td>\n",
       "      <td>Connie</td>\n",
       "      <td>Hamilton</td>\n",
       "      <td>True</td>\n",
       "    </tr>\n",
       "    <tr>\n",
       "      <th>4997</th>\n",
       "      <td>Sean Kaiser</td>\n",
       "      <td>80.54737145</td>\n",
       "      <td>Sean</td>\n",
       "      <td>Kaiser</td>\n",
       "      <td>False</td>\n",
       "    </tr>\n",
       "    <tr>\n",
       "      <th>4998</th>\n",
       "      <td>Ebony Rodriguez</td>\n",
       "      <td>93.20561606</td>\n",
       "      <td>Ebony</td>\n",
       "      <td>Rodriguez</td>\n",
       "      <td>False</td>\n",
       "    </tr>\n",
       "    <tr>\n",
       "      <th>4999</th>\n",
       "      <td>Gregg Alexander</td>\n",
       "      <td>297.046886</td>\n",
       "      <td>Gregg</td>\n",
       "      <td>Alexander</td>\n",
       "      <td>True</td>\n",
       "    </tr>\n",
       "  </tbody>\n",
       "</table>\n",
       "<p>9961 rows × 5 columns</p>\n",
       "</div>"
      ],
      "text/plain": [
       "                 name        price first_name  last_name above_100\n",
       "0       William Dixon  109.0372796    William      Dixon      True\n",
       "1        Kristen Horn  262.5246522    Kristen       Horn      True\n",
       "2      Kimberly Chang  187.0072583   Kimberly      Chang      True\n",
       "3           Mary Ball  283.1746476       Mary       Ball      True\n",
       "4      Benjamin Craig  143.8715817   Benjamin      Craig      True\n",
       "...               ...          ...        ...        ...       ...\n",
       "4995     Rachel Davis  95.25395533     Rachel      Davis     False\n",
       "4996  Connie Hamilton  205.3966853     Connie   Hamilton      True\n",
       "4997      Sean Kaiser  80.54737145       Sean     Kaiser     False\n",
       "4998  Ebony Rodriguez  93.20561606      Ebony  Rodriguez     False\n",
       "4999  Gregg Alexander   297.046886      Gregg  Alexander      True\n",
       "\n",
       "[9961 rows x 5 columns]"
      ]
     },
     "execution_count": 7,
     "metadata": {},
     "output_type": "execute_result"
    }
   ],
   "source": [
    "df"
   ]
  },
  {
   "cell_type": "code",
   "execution_count": 8,
   "metadata": {},
   "outputs": [],
   "source": [
    "df = df[['name', 'first_name', 'last_name', 'price', 'above_100']]"
   ]
  },
  {
   "cell_type": "code",
   "execution_count": 9,
   "metadata": {},
   "outputs": [],
   "source": [
    "df.to_csv('processed_dataset.csv', index=False)"
   ]
  },
  {
   "cell_type": "code",
   "execution_count": 10,
   "metadata": {},
   "outputs": [],
   "source": [
    "# Cron schedule: 0 1 * * *"
   ]
  }
 ],
 "metadata": {
  "kernelspec": {
   "display_name": "Python 3",
   "language": "python",
   "name": "python3"
  },
  "language_info": {
   "codemirror_mode": {
    "name": "ipython",
    "version": 3
   },
   "file_extension": ".py",
   "mimetype": "text/x-python",
   "name": "python",
   "nbconvert_exporter": "python",
   "pygments_lexer": "ipython3",
   "version": "3.8.3"
  }
 },
 "nbformat": 4,
 "nbformat_minor": 4
}
